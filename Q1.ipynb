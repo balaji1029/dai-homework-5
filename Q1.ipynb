{
 "cells": [
  {
   "cell_type": "code",
   "execution_count": 2,
   "metadata": {
    "id": "IiMx7COlpbia"
   },
   "outputs": [],
   "source": [
    "#imports\n",
    "import numpy as np\n",
    "import pandas as pd\n",
    "import matplotlib.pyplot as plt\n",
    "import seaborn as sns"
   ]
  },
  {
   "cell_type": "code",
   "execution_count": 4,
   "metadata": {
    "id": "dUblyP3wpho_"
   },
   "outputs": [],
   "source": [
    "# Load the dataset\n",
    "df = pd.read_csv('TaxiData.csv')"
   ]
  },
  {
   "cell_type": "markdown",
   "metadata": {
    "id": "hnOgRMuvoI9p"
   },
   "source": [
    "```\n",
    "Analysis on overall Dataset.\n",
    "Provide info about columns and its Datatypes.\n",
    "State missing values and other organic analysis.\n",
    "```"
   ]
  },
  {
   "cell_type": "markdown",
   "metadata": {
    "id": "_lBhbIr7xFrf"
   },
   "source": [
    "## Q 1.a"
   ]
  },
  {
   "cell_type": "code",
   "execution_count": 7,
   "metadata": {
    "id": "W-DM1sAAn8EK"
   },
   "outputs": [
    {
     "data": {
      "text/plain": [
       "pickup_community_area        62\n",
       "fare                        423\n",
       "trip_start_month             12\n",
       "trip_start_hour              24\n",
       "trip_start_day                7\n",
       "trip_start_timestamp      13789\n",
       "pickup_latitude             236\n",
       "pickup_longitude            236\n",
       "dropoff_latitude            292\n",
       "dropoff_longitude           292\n",
       "trip_miles                  530\n",
       "pickup_census_tract           1\n",
       "dropoff_census_tract        229\n",
       "payment_type                  7\n",
       "company                      61\n",
       "trip_seconds                110\n",
       "dropoff_community_area       70\n",
       "tips                        462\n",
       "dtype: int64"
      ]
     },
     "execution_count": 7,
     "metadata": {},
     "output_type": "execute_result"
    }
   ],
   "source": [
    "# Check data shape, summary, ...\n",
    "\n",
    "# Identify missing values\n",
    "# Plot missing values (customize as needed)\n",
    "# missing_values.plot(...)\n",
    "\n",
    "# Any change of data type conversion required?\n",
    "df.nunique()"
   ]
  },
  {
   "cell_type": "code",
   "execution_count": 8,
   "metadata": {
    "id": "N-wtsijYp4cg"
   },
   "outputs": [
    {
     "data": {
      "text/plain": [
       "pickup_community_area     float64\n",
       "fare                      float64\n",
       "trip_start_month            int64\n",
       "trip_start_hour             int64\n",
       "trip_start_day              int64\n",
       "trip_start_timestamp        int64\n",
       "pickup_latitude           float64\n",
       "pickup_longitude          float64\n",
       "dropoff_latitude          float64\n",
       "dropoff_longitude         float64\n",
       "trip_miles                float64\n",
       "pickup_census_tract       float64\n",
       "dropoff_census_tract      float64\n",
       "payment_type               object\n",
       "company                    object\n",
       "trip_seconds              float64\n",
       "dropoff_community_area    float64\n",
       "tips                      float64\n",
       "dtype: object"
      ]
     },
     "execution_count": 8,
     "metadata": {},
     "output_type": "execute_result"
    }
   ],
   "source": [
    "df.dtypes"
   ]
  },
  {
   "cell_type": "code",
   "execution_count": null,
   "metadata": {},
   "outputs": [],
   "source": [
    "categorical = ['pickup_community_area', 'trip_start_month', 'trip_start_hour', 'trip_start_day', ]\n",
    "numerical = ['trip_']\n"
   ]
  }
 ],
 "metadata": {
  "colab": {
   "provenance": []
  },
  "kernelspec": {
   "display_name": "venv",
   "language": "python",
   "name": "venv"
  },
  "language_info": {
   "codemirror_mode": {
    "name": "ipython",
    "version": 3
   },
   "file_extension": ".py",
   "mimetype": "text/x-python",
   "name": "python",
   "nbconvert_exporter": "python",
   "pygments_lexer": "ipython3",
   "version": "3.12.3"
  }
 },
 "nbformat": 4,
 "nbformat_minor": 0
}
